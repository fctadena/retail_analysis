{
 "cells": [
  {
   "cell_type": "code",
   "execution_count": 72,
   "id": "fc629d98",
   "metadata": {},
   "outputs": [],
   "source": [
    "import glob\n",
    "import os\n",
    "import json\n",
    "import pandas as pd\n",
    "import re"
   ]
  },
  {
   "cell_type": "code",
   "execution_count": 73,
   "id": "0b41e7e7",
   "metadata": {},
   "outputs": [],
   "source": [
    "def get_column_names(schemas, ds_name, sorting_key='column_position'):\n",
    "    column_details = schemas[ds_name]\n",
    "    columns = sorted(column_details, key=lambda col: col[sorting_key])\n",
    "    return [col['column_name'] for  col in columns]"
   ]
  },
  {
   "cell_type": "code",
   "execution_count": 74,
   "id": "af35da80",
   "metadata": {},
   "outputs": [],
   "source": [
    "def read_csv(file, schemas):\n",
    "    file_path_list = re.split('[/\\\\\\]', file)\n",
    "    ds_name = file_path_list[-2]\n",
    "    file_name = file_path_list[-1]\n",
    "    columns = get_column_names(schemas, ds_name)\n",
    "    df = pd.read_csv(file, names=columns)\n",
    "    return df"
   ]
  },
  {
   "cell_type": "code",
   "execution_count": 75,
   "id": "b7361c8c",
   "metadata": {},
   "outputs": [],
   "source": [
    "def to_json(df, tgt_base_dir, ds_name, file_name):\n",
    "    json_file_path = f'{tgt_base_dir}/{ds_name}/{file_name}'\n",
    "    os.makedirs(f'{tgt_base_dir}/{ds_name}', exist_ok=True)\n",
    "    df.to_json(\n",
    "        json_file_path,\n",
    "        orient='records',\n",
    "        lines = True\n",
    "    )\n",
    "    "
   ]
  },
  {
   "cell_type": "code",
   "execution_count": 76,
   "id": "8217b3ee",
   "metadata": {},
   "outputs": [],
   "source": [
    "def file_converter(ds_name):\n",
    "    src_base_dir = 'retail_db'\n",
    "    tgt_base_dir = 'retail_db_json'\n",
    "    \n",
    "    schemas = json.load(open(f'{src_base_dir}/schemas.json'))\n",
    "    files = glob.glob(f'{src_base_dir}/{ds_name}/part-*')\n",
    "    \n",
    "    for file in files:\n",
    "        print(f'Processing: {file}')\n",
    "        df = read_csv(file, schemas)\n",
    "        file_name = re.split('[/\\\\\\]', file)[-1]\n",
    "        to_json(df, tgt_base_dir, ds_name, file_name)"
   ]
  },
  {
   "cell_type": "code",
   "execution_count": 77,
   "id": "a26a5da9",
   "metadata": {},
   "outputs": [
    {
     "name": "stdout",
     "output_type": "stream",
     "text": [
      "Processing: retail_db/departments\\part-00000\n"
     ]
    }
   ],
   "source": [
    "ds_name = 'departments'\n",
    "file_converter(ds_name)"
   ]
  },
  {
   "cell_type": "code",
   "execution_count": null,
   "id": "f877a953",
   "metadata": {},
   "outputs": [],
   "source": []
  }
 ],
 "metadata": {
  "kernelspec": {
   "display_name": "Python 3 (ipykernel)",
   "language": "python",
   "name": "python3"
  },
  "language_info": {
   "codemirror_mode": {
    "name": "ipython",
    "version": 3
   },
   "file_extension": ".py",
   "mimetype": "text/x-python",
   "name": "python",
   "nbconvert_exporter": "python",
   "pygments_lexer": "ipython3",
   "version": "3.9.7"
  }
 },
 "nbformat": 4,
 "nbformat_minor": 5
}
