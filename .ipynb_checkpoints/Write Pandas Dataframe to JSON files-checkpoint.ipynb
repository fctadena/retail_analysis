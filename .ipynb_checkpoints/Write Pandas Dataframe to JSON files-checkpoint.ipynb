{
 "cells": [
  {
   "cell_type": "code",
   "execution_count": 106,
   "id": "4f64f302",
   "metadata": {},
   "outputs": [],
   "source": [
    "import json\n",
    "import glob\n",
    "import pandas as pd\n",
    "import re\n",
    "import os"
   ]
  },
  {
   "cell_type": "code",
   "execution_count": 107,
   "id": "775a82b0",
   "metadata": {},
   "outputs": [],
   "source": [
    "def get_column_name(schemas, ds_name, sorting_key='column_position'):\n",
    "    column_details = schemas[ds_name]\n",
    "    columns = sorted(column_details, key=lambda col: col[sorting_key])\n",
    "    return [col['column_name'] for col in columns]"
   ]
  },
  {
   "cell_type": "code",
   "execution_count": 108,
   "id": "e272fa40",
   "metadata": {},
   "outputs": [],
   "source": [
    "schemas = json.load(open('retail_db/schemas.json'))"
   ]
  },
  {
   "cell_type": "code",
   "execution_count": 109,
   "id": "2e9a7281",
   "metadata": {},
   "outputs": [],
   "source": [
    "src_file_names = glob.glob('retail_db/*/part*')"
   ]
  },
  {
   "cell_type": "code",
   "execution_count": 110,
   "id": "7e9faf14",
   "metadata": {},
   "outputs": [
    {
     "data": {
      "text/plain": [
       "['retail_db\\\\categories\\\\part-00000',\n",
       " 'retail_db\\\\customers\\\\part-00000',\n",
       " 'retail_db\\\\departments\\\\part-00000',\n",
       " 'retail_db\\\\orders\\\\part-00000',\n",
       " 'retail_db\\\\order_items\\\\part-00000',\n",
       " 'retail_db\\\\products\\\\part-00000']"
      ]
     },
     "execution_count": 110,
     "metadata": {},
     "output_type": "execute_result"
    }
   ],
   "source": [
    "src_file_names"
   ]
  },
  {
   "cell_type": "code",
   "execution_count": 111,
   "id": "abb091ac",
   "metadata": {},
   "outputs": [],
   "source": [
    "sp = src_file_names[1].split('\\\\')"
   ]
  },
  {
   "cell_type": "code",
   "execution_count": 112,
   "id": "66601751",
   "metadata": {},
   "outputs": [
    {
     "data": {
      "text/plain": [
       "['retail_db', 'customers', 'part-00000']"
      ]
     },
     "execution_count": 112,
     "metadata": {},
     "output_type": "execute_result"
    }
   ],
   "source": [
    "sp"
   ]
  },
  {
   "cell_type": "code",
   "execution_count": 113,
   "id": "acc88fab",
   "metadata": {},
   "outputs": [],
   "source": [
    "s = 's/a\\\\b\\\\c'"
   ]
  },
  {
   "cell_type": "code",
   "execution_count": 114,
   "id": "99d54219",
   "metadata": {},
   "outputs": [
    {
     "data": {
      "text/plain": [
       "['s', 'a', 'b', 'c']"
      ]
     },
     "execution_count": 114,
     "metadata": {},
     "output_type": "execute_result"
    }
   ],
   "source": [
    "re.split('[/\\\\\\]',s)"
   ]
  },
  {
   "cell_type": "code",
   "execution_count": 115,
   "id": "15470435",
   "metadata": {
    "scrolled": true
   },
   "outputs": [
    {
     "name": "stdout",
     "output_type": "stream",
     "text": [
      "['retail_db', 'categories', 'part-00000']\n",
      "['retail_db', 'customers', 'part-00000']\n",
      "['retail_db', 'departments', 'part-00000']\n",
      "['retail_db', 'orders', 'part-00000']\n",
      "['retail_db', 'order_items', 'part-00000']\n",
      "['retail_db', 'products', 'part-00000']\n"
     ]
    }
   ],
   "source": [
    "for file in src_file_names:\n",
    "    print(re.split('[/\\\\\\]',file))"
   ]
  },
  {
   "cell_type": "code",
   "execution_count": 116,
   "id": "2ededde2",
   "metadata": {},
   "outputs": [],
   "source": [
    "file = src_file_names[0]"
   ]
  },
  {
   "cell_type": "code",
   "execution_count": 117,
   "id": "0c7d72d8",
   "metadata": {},
   "outputs": [
    {
     "data": {
      "text/plain": [
       "'retail_db\\\\categories\\\\part-00000'"
      ]
     },
     "execution_count": 117,
     "metadata": {},
     "output_type": "execute_result"
    }
   ],
   "source": [
    "file"
   ]
  },
  {
   "cell_type": "code",
   "execution_count": 118,
   "id": "60c55728",
   "metadata": {},
   "outputs": [],
   "source": [
    "file_details = re.split('[/\\\\\\]',file)"
   ]
  },
  {
   "cell_type": "code",
   "execution_count": 119,
   "id": "146f0792",
   "metadata": {},
   "outputs": [],
   "source": [
    "ds_name = file_details[-2]"
   ]
  },
  {
   "cell_type": "code",
   "execution_count": 120,
   "id": "8fdafb45",
   "metadata": {},
   "outputs": [],
   "source": [
    "columns = get_column_name(schemas, ds_name)"
   ]
  },
  {
   "cell_type": "code",
   "execution_count": 121,
   "id": "46a31665",
   "metadata": {},
   "outputs": [
    {
     "data": {
      "text/plain": [
       "['category_id', 'category_department_id', 'category_name']"
      ]
     },
     "execution_count": 121,
     "metadata": {},
     "output_type": "execute_result"
    }
   ],
   "source": [
    "columns"
   ]
  },
  {
   "cell_type": "code",
   "execution_count": 122,
   "id": "a2b0a419",
   "metadata": {},
   "outputs": [],
   "source": [
    "df = pd.read_csv(file, names=columns)"
   ]
  },
  {
   "cell_type": "code",
   "execution_count": 123,
   "id": "d45a3b68",
   "metadata": {},
   "outputs": [
    {
     "data": {
      "text/html": [
       "<div>\n",
       "<style scoped>\n",
       "    .dataframe tbody tr th:only-of-type {\n",
       "        vertical-align: middle;\n",
       "    }\n",
       "\n",
       "    .dataframe tbody tr th {\n",
       "        vertical-align: top;\n",
       "    }\n",
       "\n",
       "    .dataframe thead th {\n",
       "        text-align: right;\n",
       "    }\n",
       "</style>\n",
       "<table border=\"1\" class=\"dataframe\">\n",
       "  <thead>\n",
       "    <tr style=\"text-align: right;\">\n",
       "      <th></th>\n",
       "      <th>category_id</th>\n",
       "      <th>category_department_id</th>\n",
       "      <th>category_name</th>\n",
       "    </tr>\n",
       "  </thead>\n",
       "  <tbody>\n",
       "    <tr>\n",
       "      <th>0</th>\n",
       "      <td>1</td>\n",
       "      <td>2</td>\n",
       "      <td>Football</td>\n",
       "    </tr>\n",
       "    <tr>\n",
       "      <th>1</th>\n",
       "      <td>2</td>\n",
       "      <td>2</td>\n",
       "      <td>Soccer</td>\n",
       "    </tr>\n",
       "    <tr>\n",
       "      <th>2</th>\n",
       "      <td>3</td>\n",
       "      <td>2</td>\n",
       "      <td>Baseball &amp; Softball</td>\n",
       "    </tr>\n",
       "    <tr>\n",
       "      <th>3</th>\n",
       "      <td>4</td>\n",
       "      <td>2</td>\n",
       "      <td>Basketball</td>\n",
       "    </tr>\n",
       "    <tr>\n",
       "      <th>4</th>\n",
       "      <td>5</td>\n",
       "      <td>2</td>\n",
       "      <td>Lacrosse</td>\n",
       "    </tr>\n",
       "  </tbody>\n",
       "</table>\n",
       "</div>"
      ],
      "text/plain": [
       "   category_id  category_department_id        category_name\n",
       "0            1                       2             Football\n",
       "1            2                       2               Soccer\n",
       "2            3                       2  Baseball & Softball\n",
       "3            4                       2           Basketball\n",
       "4            5                       2             Lacrosse"
      ]
     },
     "execution_count": 123,
     "metadata": {},
     "output_type": "execute_result"
    }
   ],
   "source": [
    "df.head()"
   ]
  },
  {
   "cell_type": "code",
   "execution_count": 124,
   "id": "3d64d02d",
   "metadata": {},
   "outputs": [
    {
     "name": "stdout",
     "output_type": "stream",
     "text": [
      "Processing retail_db\\categories\\part-00000\n",
      "Shape of categories is (58, 3)\n",
      "Processing retail_db\\customers\\part-00000\n",
      "Shape of customers is (12435, 9)\n",
      "Processing retail_db\\departments\\part-00000\n",
      "Shape of departments is (6, 2)\n",
      "Processing retail_db\\orders\\part-00000\n",
      "Shape of orders is (68883, 4)\n",
      "Processing retail_db\\order_items\\part-00000\n",
      "Shape of order_items is (172198, 6)\n",
      "Processing retail_db\\products\\part-00000\n",
      "Shape of products is (1345, 6)\n"
     ]
    }
   ],
   "source": [
    "for file in src_file_names:\n",
    "    print(f'Processing {file}')\n",
    "    file_path_list = re.split('[/\\\\\\]', file)\n",
    "    ds_name = file_path_list[-2]\n",
    "    columns = get_column_name(schemas, ds_name)\n",
    "    df = pd.read_csv(file, names=columns)\n",
    "    print(f'Shape of {ds_name} is {df.shape}')"
   ]
  },
  {
   "cell_type": "code",
   "execution_count": 130,
   "id": "6c8dc339",
   "metadata": {},
   "outputs": [],
   "source": [
    "tgt_base_dir = '/retail_db_jsons'"
   ]
  },
  {
   "cell_type": "code",
   "execution_count": 131,
   "id": "dacbbe8a",
   "metadata": {},
   "outputs": [],
   "source": [
    "for file in src_file_names:\n",
    "#     print(f'Processing {file}')\n",
    "    file_path_list = re.split('[/\\\\\\]', file)\n",
    "    ds_name = file_path_list[-2]\n",
    "    file_name = file_path_list[-1]\n",
    "    json_file_path = f'{tgt_base_dir}/{ds_name}/{file_name}'\n",
    "    columns = get_column_name(schemas, ds_name)\n",
    "    df = pd.read_csv(file, names=columns)\n",
    "    os.makedirs(f'{tgt_base_dir}/{ds_name}', exist_ok=True)\n",
    "    df.to_json(json_file_path, orient='records',lines=True)"
   ]
  },
  {
   "cell_type": "code",
   "execution_count": null,
   "id": "a6b33148",
   "metadata": {},
   "outputs": [],
   "source": []
  }
 ],
 "metadata": {
  "kernelspec": {
   "display_name": "Python 3 (ipykernel)",
   "language": "python",
   "name": "python3"
  },
  "language_info": {
   "codemirror_mode": {
    "name": "ipython",
    "version": 3
   },
   "file_extension": ".py",
   "mimetype": "text/x-python",
   "name": "python",
   "nbconvert_exporter": "python",
   "pygments_lexer": "ipython3",
   "version": "3.9.7"
  }
 },
 "nbformat": 4,
 "nbformat_minor": 5
}
