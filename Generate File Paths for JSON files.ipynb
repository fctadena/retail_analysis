{
 "cells": [
  {
   "cell_type": "code",
   "execution_count": 2,
   "id": "6c8dc339",
   "metadata": {},
   "outputs": [],
   "source": [
    "import json\n",
    "import pandas as pd\n",
    "import re\n",
    "import glob"
   ]
  },
  {
   "cell_type": "code",
   "execution_count": 9,
   "id": "a449a159",
   "metadata": {},
   "outputs": [],
   "source": [
    "src_file_names = glob.glob('retail_db/*/part*')"
   ]
  },
  {
   "cell_type": "code",
   "execution_count": 13,
   "id": "4df97415",
   "metadata": {},
   "outputs": [
    {
     "name": "stdout",
     "output_type": "stream",
     "text": [
      "['retail_db', 'categories', 'part-00000']\n",
      "['retail_db', 'customers', 'part-00000']\n",
      "['retail_db', 'departments', 'part-00000']\n",
      "['retail_db', 'orders', 'part-00000']\n",
      "['retail_db', 'order_items', 'part-00000']\n",
      "['retail_db', 'products', 'part-00000']\n"
     ]
    }
   ],
   "source": [
    "for file in src_file_names:\n",
    "    file_path_list = re.split('[/\\\\\\]', file)\n",
    "    print(file_path_list)"
   ]
  },
  {
   "cell_type": "code",
   "execution_count": 24,
   "id": "fa997c0f",
   "metadata": {},
   "outputs": [],
   "source": [
    "target_base_dir = 'data/retail_db_json'"
   ]
  },
  {
   "cell_type": "code",
   "execution_count": 25,
   "id": "2976a350",
   "metadata": {},
   "outputs": [],
   "source": [
    "file = src_file_names[0]"
   ]
  },
  {
   "cell_type": "code",
   "execution_count": 26,
   "id": "13f8ca5d",
   "metadata": {},
   "outputs": [
    {
     "data": {
      "text/plain": [
       "'retail_db\\\\categories\\\\part-00000'"
      ]
     },
     "execution_count": 26,
     "metadata": {},
     "output_type": "execute_result"
    }
   ],
   "source": [
    "file"
   ]
  },
  {
   "cell_type": "code",
   "execution_count": 27,
   "id": "9541734e",
   "metadata": {},
   "outputs": [],
   "source": [
    "file_path_list = re.split('[/\\\\\\]', file)"
   ]
  },
  {
   "cell_type": "code",
   "execution_count": 28,
   "id": "7e3c7db3",
   "metadata": {},
   "outputs": [
    {
     "data": {
      "text/plain": [
       "['retail_db', 'categories', 'part-00000']"
      ]
     },
     "execution_count": 28,
     "metadata": {},
     "output_type": "execute_result"
    }
   ],
   "source": [
    "file_path_list"
   ]
  },
  {
   "cell_type": "code",
   "execution_count": 29,
   "id": "2008c3c7",
   "metadata": {},
   "outputs": [],
   "source": [
    "ds_name = file_path_list[-2]"
   ]
  },
  {
   "cell_type": "code",
   "execution_count": 30,
   "id": "98052491",
   "metadata": {},
   "outputs": [],
   "source": [
    "file_name = file_path_list[-1]"
   ]
  },
  {
   "cell_type": "code",
   "execution_count": 31,
   "id": "f29282ea",
   "metadata": {},
   "outputs": [
    {
     "data": {
      "text/plain": [
       "'part-00000'"
      ]
     },
     "execution_count": 31,
     "metadata": {},
     "output_type": "execute_result"
    }
   ],
   "source": [
    "file_name"
   ]
  },
  {
   "cell_type": "code",
   "execution_count": 33,
   "id": "d6cb4644",
   "metadata": {},
   "outputs": [],
   "source": [
    "json_file_path = f'{target_base_dir}/{ds_name}/{file_name}'"
   ]
  },
  {
   "cell_type": "code",
   "execution_count": 34,
   "id": "d1df29a1",
   "metadata": {},
   "outputs": [
    {
     "data": {
      "text/plain": [
       "'data/retail_db_json/categories/part-00000'"
      ]
     },
     "execution_count": 34,
     "metadata": {},
     "output_type": "execute_result"
    }
   ],
   "source": [
    "json_file_path"
   ]
  },
  {
   "cell_type": "code",
   "execution_count": 38,
   "id": "cb826786",
   "metadata": {},
   "outputs": [
    {
     "name": "stdout",
     "output_type": "stream",
     "text": [
      "retail_db\\categories\\part-00000\n",
      "retail_db\\customers\\part-00000\n",
      "retail_db\\departments\\part-00000\n",
      "retail_db\\orders\\part-00000\n",
      "retail_db\\order_items\\part-00000\n",
      "retail_db\\products\\part-00000\n"
     ]
    }
   ],
   "source": [
    "for file in src_file_names:\n",
    "    print(file)"
   ]
  },
  {
   "cell_type": "code",
   "execution_count": 45,
   "id": "ed77bda7",
   "metadata": {},
   "outputs": [
    {
     "name": "stdout",
     "output_type": "stream",
     "text": [
      "data/retail_db_json/categories/part-00000\n",
      "data/retail_db_json/customers/part-00000\n",
      "data/retail_db_json/departments/part-00000\n",
      "data/retail_db_json/orders/part-00000\n",
      "data/retail_db_json/order_items/part-00000\n",
      "data/retail_db_json/products/part-00000\n"
     ]
    }
   ],
   "source": [
    "for file in src_file_names:\n",
    "    file_path_list = re.split('[/\\\\\\]', file)\n",
    "    ds_name = file_path_list[-2]\n",
    "    file_name = file_path_list[-1]\n",
    "    json_file_path = f'{target_base_dir}/{ds_name}/{file_name}'\n",
    "    print(json_file_path)"
   ]
  },
  {
   "cell_type": "code",
   "execution_count": null,
   "id": "10c63260",
   "metadata": {},
   "outputs": [],
   "source": []
  }
 ],
 "metadata": {
  "kernelspec": {
   "display_name": "Python 3 (ipykernel)",
   "language": "python",
   "name": "python3"
  },
  "language_info": {
   "codemirror_mode": {
    "name": "ipython",
    "version": 3
   },
   "file_extension": ".py",
   "mimetype": "text/x-python",
   "name": "python",
   "nbconvert_exporter": "python",
   "pygments_lexer": "ipython3",
   "version": "3.9.7"
  }
 },
 "nbformat": 4,
 "nbformat_minor": 5
}
